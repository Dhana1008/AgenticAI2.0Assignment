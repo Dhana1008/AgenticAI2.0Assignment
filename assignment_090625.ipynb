{
 "cells": [
  {
   "cell_type": "code",
   "execution_count": 1,
   "id": "506ab4ef",
   "metadata": {},
   "outputs": [
    {
     "name": "stdout",
     "output_type": "stream",
     "text": [
      "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\n"
     ]
    }
   ],
   "source": [
    "from langchain_community import vectorstores\n",
    "from langchain_community.vectorstores import Chroma\n",
    "from langchain_groq import ChatGroq\n",
    "from langchain_huggingface import HuggingFaceEmbeddings\n",
    "from langchain.text_splitter import RecursiveCharacterTextSplitter\n",
    "from pydantic import BaseModel , Field\n",
    "from langchain.prompts import PromptTemplate\n",
    "from typing import TypedDict, Annotated, Sequence, Optional\n",
    "from langchain_community.tools import DuckDuckGoSearchRun\n",
    "from langchain_core.tools import tool\n",
    "import os\n",
    "from dotenv import load_dotenv\n",
    "\n",
    "load_dotenv()\n",
    "\n",
    "api_key = \"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\"\n",
    "print(api_key)\n",
    "\n"
   ]
  },
  {
   "cell_type": "code",
   "execution_count": 2,
   "id": "7201be33",
   "metadata": {},
   "outputs": [],
   "source": [
    "# from langchain.tools import tool\n",
    "# import yfinance as yf\n",
    "\n",
    "# @tool\n",
    "# # Convenience function that matches your original signature\n",
    "# def YahooFinanceTool(ticker: str) -> str:\n",
    "#     \"\"\"\n",
    "#     Fetches financial data for a given ticker symbol.\n",
    "    \n",
    "#     Args:\n",
    "#         ticker (str): The ticker symbol of the company (e.g., \"AAPL\" for Apple).\n",
    "        \n",
    "#     Returns:\n",
    "#         str: A summary of the financial data including current price, market cap, and other key metrics.\n",
    "#     \"\"\"\n",
    "#     tool = YahooFinanceTool()\n",
    "#     return tool.get_stock_data(ticker)"
   ]
  },
  {
   "cell_type": "code",
   "execution_count": 3,
   "id": "8fe4615e",
   "metadata": {},
   "outputs": [],
   "source": [
    "from langchain.output_parsers import PydanticOutputParser\n",
    "\n",
    "class AgentParser(BaseModel):\n",
    "    Topic: str = Field(description=\"Selected tool for answering the question (e.g., finance_tool or web_tool)\")\n",
    "    Reasoning: str = Field(description=\"Reason why this tool was selected based on the question\")\n",
    "\n",
    "# Create parser\n",
    "parser = PydanticOutputParser(pydantic_object=AgentParser)\n"
   ]
  },
  {
   "cell_type": "code",
   "execution_count": 4,
   "id": "397a91cc",
   "metadata": {},
   "outputs": [],
   "source": [
    "from typing import TypedDict, Literal\n",
    "class AgentState(TypedDict):\n",
    "    question:str\n",
    "    result: Optional[str]\n",
    "    tool_type:Literal[\"YahooFinanceNewsTool\", \"WebSearch\"]\n",
    "    parser_result:Optional[str]\n",
    "    is_valid =Optional[str]\n",
    "    retry_count: int"
   ]
  },
  {
   "cell_type": "code",
   "execution_count": 5,
   "id": "04b9ca6c",
   "metadata": {},
   "outputs": [],
   "source": [
    "# !pip install -U duckduckgo-search\n",
    "\n",
    "# from langchain_community.tools import DuckDuckGoSearchRun\n",
    "\n",
    "# search = DuckDuckGoSearchRun()\n",
    "\n",
    "# search.invoke(\"Obama's first name?\")"
   ]
  },
  {
   "cell_type": "code",
   "execution_count": null,
   "id": "c4d45bd4",
   "metadata": {},
   "outputs": [],
   "source": [
    "# Web search tools\n",
    "\n",
    "from langchain.tools.ddg_search.tool import DuckDuckGoSearchResults\n",
    "\n",
    "def web_search(state: dict) -> dict:\n",
    "    \"\"\"LangGraph-compatible web search node.\"\"\"\n",
    "    query = state.get(\"question\", \"\").strip()\n",
    "    \n",
    "    try:\n",
    "        search = DuckDuckGoSearchResults(output_format=\"dict\")\n",
    "        result = search.invoke(query)\n",
    "        print(result)\n",
    "        \n",
    "        # Ensure results is a string\n",
    "        if not isinstance(result, str):\n",
    "            result = str(result)\n",
    "        \n",
    "        return {\n",
    "            **state, \n",
    "            \"result\": f\"Web search results for '{query}':\\n\\n{result}\"\n",
    "        }\n",
    "    except Exception as e:\n",
    "        return {\n",
    "            **state, \n",
    "            \"result\": f\"Error performing web search: {str(e)}\"\n",
    "        }\n",
    "\n",
    "#result =  web_search(\"what is capital of India\")"
   ]
  },
  {
   "cell_type": "code",
   "execution_count": 7,
   "id": "1b4b22df",
   "metadata": {},
   "outputs": [],
   "source": [
    "import yfinance as yf\n",
    "\n",
    "def yahoo_finance_search(state: dict) -> dict:\n",
    "    \"\"\"\n",
    "    LangGraph-compatible Yahoo Finance search function.\n",
    "    Expects a 'question' key in the state, interpreted as a stock ticker.\n",
    "    \"\"\"\n",
    "    ticker = state.get(\"question\", \"\").strip().upper()\n",
    "\n",
    "    try:\n",
    "        stock = yf.Ticker(ticker)\n",
    "        info = stock.info\n",
    "\n",
    "        if not info:\n",
    "            return {**state, \"result\": f\"No data found for ticker symbol: {ticker}\"}\n",
    "\n",
    "        name = info.get(\"shortName\", \"N/A\")\n",
    "        current_price = info.get(\"currentPrice\", \"N/A\")\n",
    "        market_cap = info.get(\"marketCap\", \"N/A\")\n",
    "        currency = info.get(\"currency\", \"USD\")\n",
    "        sector = info.get(\"sector\", \"N/A\")\n",
    "        summary = info.get(\"longBusinessSummary\", \"N/A\")\n",
    "\n",
    "        result = (\n",
    "            f\"Company: {name}\\n\"\n",
    "            f\"Ticker: {ticker}\\n\"\n",
    "            f\"Current Price: {current_price} {currency}\\n\"\n",
    "            f\"Market Cap: {market_cap}\\n\"\n",
    "            f\"Sector: {sector}\\n\"\n",
    "            f\"Business Summary: {summary[:500]}...\"\n",
    "        )\n",
    "\n",
    "        return {**state, \"result\": result}\n",
    "    \n",
    "    except Exception as e:\n",
    "        return {**state, \"result\": f\"Error retrieving data: {str(e)}\"}\n"
   ]
  },
  {
   "cell_type": "code",
   "execution_count": null,
   "id": "f52d19a5",
   "metadata": {},
   "outputs": [],
   "source": []
  },
  {
   "cell_type": "code",
   "execution_count": 8,
   "id": "e9fbfd52",
   "metadata": {},
   "outputs": [],
   "source": [
    "llm = ChatGroq(\n",
    "    model= \"llama-3.3-70b-versatile\",\n",
    "    api_key=api_key,\n",
    "    temperature=0.7\n",
    ")"
   ]
  },
  {
   "cell_type": "code",
   "execution_count": 9,
   "id": "aa19f450",
   "metadata": {},
   "outputs": [
    {
     "data": {
      "text/plain": [
       "AIMessage(content='**Artificial Intelligence (AI)**: AI refers to the development of computer systems that can perform tasks that typically require human intelligence, such as:\\n\\n1. **Learning**: AI systems can learn from data and improve their performance over time.\\n2. **Problem-solving**: AI systems can analyze problems and find solutions.\\n3. **Reasoning**: AI systems can draw inferences and make decisions based on available data.\\n4. **Perception**: AI systems can interpret and understand data from sensors, such as images, speech, and text.\\n\\nThe goal of AI is to create systems that can think and act like humans, but with the ability to process and analyze large amounts of data much faster and more accurately.\\n\\n**Key Types of AI**:\\n\\n1. **Narrow or Weak AI**: Designed to perform a specific task, such as image recognition, language translation, or playing chess.\\n2. **General or Strong AI**: A hypothetical AI system that possesses human-like intelligence and can perform any intellectual task.\\n3. **Superintelligence**: An AI system that is significantly more intelligent than the best human minds.\\n\\n**AI Applications**:\\n\\n1. **Virtual assistants**: Siri, Google Assistant, Alexa\\n2. **Image recognition**: Self-driving cars, facial recognition\\n3. **Natural Language Processing (NLP)**: Chatbots, language translation\\n4. **Predictive maintenance**: Predicting equipment failures, scheduling maintenance\\n5. **Healthcare**: Medical diagnosis, personalized medicine\\n\\nAI has the potential to revolutionize many industries and aspects of our lives, but it also raises important questions about ethics, bias, and job displacement.', additional_kwargs={}, response_metadata={'token_usage': {'completion_tokens': 326, 'prompt_tokens': 39, 'total_tokens': 365, 'completion_time': 1.185454545, 'prompt_time': 0.002165293, 'queue_time': 0.052879067, 'total_time': 1.187619838}, 'model_name': 'llama-3.3-70b-versatile', 'system_fingerprint': 'fp_2ddfbb0da0', 'finish_reason': 'stop', 'logprobs': None}, id='run--6bff3cf3-65dc-4923-8483-0ca2d4bbc9f6-0', usage_metadata={'input_tokens': 39, 'output_tokens': 326, 'total_tokens': 365})"
      ]
     },
     "execution_count": 9,
     "metadata": {},
     "output_type": "execute_result"
    }
   ],
   "source": [
    "llm.invoke(\"what is AI?\")"
   ]
  },
  {
   "cell_type": "code",
   "execution_count": 10,
   "id": "8a454526",
   "metadata": {},
   "outputs": [],
   "source": [
    "\n",
    "\n",
    "def router(state:AgentState):\n",
    "    retry_count = state.get(\"retry_count\", 0)\n",
    "\n",
    "    # Prevent infinite retries\n",
    "    if retry_count >= 3:  # Max 3 attempts\n",
    "        return \"Output\"  # Force exit after max retries\n",
    "\n",
    "    question = state[\"question\"]\n",
    "    print(question)\n",
    "\n",
    "    format_instructions = parser.get_format_instructions()\n",
    "\n",
    "    prompt = PromptTemplate.from_template(\n",
    "        \"\"\"You are a router. Based on the question, respond with:\n",
    "        - 'YahooFinanceNewsTool' for finance-related\n",
    "        - 'WebSearch' for general web info\n",
    "        \n",
    "        Question: {question}\n",
    "\n",
    "        {format_instructions}\n",
    "        \"\"\"\n",
    "    )\n",
    "    \n",
    "    chain = prompt.partial(format_instructions=format_instructions) | llm | parser\n",
    "\n",
    "    parsed_output = chain.invoke({\"question\": question})\n",
    "    print(parsed_output.Topic)\n",
    "\n",
    "    return {**state,\n",
    "            \"tool_type\":parsed_output.Topic\n",
    "            }\n",
    "\n",
    "\n",
    "\n",
    "    \n"
   ]
  },
  {
   "cell_type": "code",
   "execution_count": 11,
   "id": "236c5b89",
   "metadata": {},
   "outputs": [],
   "source": [
    "from langchain_core.prompts import PromptTemplate\n",
    "from langchain_core.output_parsers import StrOutputParser\n",
    "\n",
    "validation_prompt = PromptTemplate.from_template(\n",
    "    \"\"\"You are a strict validation agent.\n",
    "Check if the following result provides a meaningful and informative answer to the user's question.\n",
    "Return only \"yes\" if it's informative, otherwise return \"no\".\n",
    "\n",
    "Result:\n",
    "{result}\"\"\"\n",
    ")\n",
    "\n",
    "validation_chain = (\n",
    "    {\"result\": lambda x: x[\"result\"]}\n",
    "    | validation_prompt\n",
    "    | llm\n",
    "    | StrOutputParser()\n",
    ")\n",
    "\n",
    "def validation_func(state: dict) -> dict:\n",
    "    result = validation_chain.invoke(state)\n",
    "    retry_count = state.get(\"retry_count\", 0)\n",
    "    \n",
    "    return {\n",
    "        **state, \n",
    "        \"is_valid\": result.strip().lower() == \"yes\",\n",
    "        \"retry_count\": retry_count + 1\n",
    "    }\n"
   ]
  },
  {
   "cell_type": "code",
   "execution_count": 12,
   "id": "a2d54568",
   "metadata": {},
   "outputs": [],
   "source": [
    "def output_func(state: AgentState):\n",
    "    raw = state.get(\"result\",\"\")\n",
    "\n",
    "    return {**state, \"output\": raw}\n",
    "    \n",
    "    "
   ]
  },
  {
   "cell_type": "code",
   "execution_count": 13,
   "id": "657f8b6b",
   "metadata": {},
   "outputs": [
    {
     "data": {
      "text/plain": [
       "Graph(nodes={'__start__': Node(id='__start__', name='__start__', data=RunnablePassthrough(), metadata=None), 'router': Node(id='router', name='router', data=router(tags=None, recurse=True, explode_args=False, func_accepts_config=False, func_accepts={}), metadata=None), 'YahooFinanceNewsTool': Node(id='YahooFinanceNewsTool', name='YahooFinanceNewsTool', data=YahooFinanceNewsTool(tags=None, recurse=True, explode_args=False, func_accepts_config=False, func_accepts={}), metadata=None), 'WebSearch': Node(id='WebSearch', name='WebSearch', data=WebSearch(tags=None, recurse=True, explode_args=False, func_accepts_config=False, func_accepts={}), metadata=None), 'validation': Node(id='validation', name='validation', data=validation(tags=None, recurse=True, explode_args=False, func_accepts_config=False, func_accepts={}), metadata=None), 'Output': Node(id='Output', name='Output', data=Output(tags=None, recurse=True, explode_args=False, func_accepts_config=False, func_accepts={}), metadata=None), '__end__': Node(id='__end__', name='__end__', data=None, metadata=None)}, edges=[Edge(source='WebSearch', target='validation', data=None, conditional=False), Edge(source='YahooFinanceNewsTool', target='validation', data=None, conditional=False), Edge(source='__start__', target='router', data=None, conditional=False), Edge(source='router', target='Output', data=None, conditional=True), Edge(source='router', target='WebSearch', data=None, conditional=True), Edge(source='router', target='YahooFinanceNewsTool', data=None, conditional=True), Edge(source='validation', target='Output', data=None, conditional=True), Edge(source='validation', target='router', data=None, conditional=True), Edge(source='Output', target='__end__', data=None, conditional=False)])"
      ]
     },
     "execution_count": 13,
     "metadata": {},
     "output_type": "execute_result"
    }
   ],
   "source": [
    "from langgraph.graph import StateGraph, END\n",
    "\n",
    "builder = StateGraph(AgentState)\n",
    "\n",
    "builder.set_entry_point(\"router\")\n",
    "builder.add_node(\"router\", router)\n",
    "builder.add_node(\"YahooFinanceNewsTool\", yahoo_finance_search)\n",
    "builder.add_node(\"WebSearch\", web_search)\n",
    "builder.add_node(\"validation\", validation_func)\n",
    "builder.add_node(\"Output\", output_func)\n",
    "\n",
    "# Branching after router\n",
    "builder.add_conditional_edges(\n",
    "    \"router\",\n",
    "    lambda state: state[\"tool_type\"],\n",
    "    {\n",
    "        \"YahooFinanceNewsTool\": \"YahooFinanceNewsTool\",\n",
    "        \"WebSearch\": \"WebSearch\",\n",
    "        \"Output\":\"Output\"\n",
    "    }\n",
    ")\n",
    "\n",
    "# Validation\n",
    "builder.add_edge(\"YahooFinanceNewsTool\", \"validation\")\n",
    "builder.add_edge(\"WebSearch\", \"validation\")\n",
    "\n",
    "builder.add_conditional_edges(\n",
    "    \"validation\",\n",
    "    lambda state: \"Output\" if state[\"is_valid\"] else \"router\",\n",
    "    {\n",
    "        \"Output\": \"Output\",\n",
    "        \"router\": \"router\"\n",
    "    }\n",
    ")\n",
    "\n",
    "\n",
    "# Final output\n",
    "builder.add_edge(\"Output\", END)\n",
    "\n",
    "graph = builder.compile()\n",
    "graph.get_graph()\n"
   ]
  },
  {
   "cell_type": "code",
   "execution_count": null,
   "id": "4e168504",
   "metadata": {},
   "outputs": [],
   "source": []
  },
  {
   "cell_type": "code",
   "execution_count": 14,
   "id": "0e4f193d",
   "metadata": {},
   "outputs": [
    {
     "data": {
      "image/png": "[encoded data removed]",
      "text/plain": [
       "<IPython.core.display.Image object>"
      ]
     },
     "metadata": {},
     "output_type": "display_data"
    }
   ],
   "source": [
    "from IPython.display import Image, display\n",
    "display(Image(graph.get_graph().draw_mermaid_png()))\n"
   ]
  },
  {
   "cell_type": "code",
   "execution_count": 15,
   "id": "5d245ce4",
   "metadata": {},
   "outputs": [
    {
     "name": "stdout",
     "output_type": "stream",
     "text": [
      "What is capital of India?\n",
      "WebSearch\n",
      "What is capital of India?\n",
      "WebSearch\n",
      "What is capital of India?\n",
      "WebSearch\n"
     ]
    },
    {
     "ename": "InvalidUpdateError",
     "evalue": "Expected dict, got Output\nFor troubleshooting, visit: https://python.langchain.com/docs/troubleshooting/errors/INVALID_GRAPH_NODE_RETURN_VALUE",
     "output_type": "error",
     "traceback": [
      "\u001b[31m---------------------------------------------------------------------------\u001b[39m",
      "\u001b[31mInvalidUpdateError\u001b[39m                        Traceback (most recent call last)",
      "\u001b[36mCell\u001b[39m\u001b[36m \u001b[39m\u001b[32mIn[15]\u001b[39m\u001b[32m, line 3\u001b[39m\n\u001b[32m      1\u001b[39m \u001b[38;5;66;03m#graph.invoke({\"question\": \"AAPL\"})  # For finance\u001b[39;00m\n\u001b[32m      2\u001b[39m \u001b[38;5;66;03m# print(\"Invoking graph with 'What is the tallest building?'...\")\u001b[39;00m\n\u001b[32m----> \u001b[39m\u001b[32m3\u001b[39m result_web = graph.invoke({\u001b[33m\"\u001b[39m\u001b[33mquestion\u001b[39m\u001b[33m\"\u001b[39m: \u001b[33m\"\u001b[39m\u001b[33mWhat is capital of India?\u001b[39m\u001b[33m\"\u001b[39m})\n",
      "\u001b[36mFile \u001b[39m\u001b[32mc:\\Users\\Suraj\\anaconda3\\envs\\myenv\\Lib\\site-packages\\langgraph\\pregel\\__init__.py:2719\u001b[39m, in \u001b[36mPregel.invoke\u001b[39m\u001b[34m(self, input, config, stream_mode, output_keys, interrupt_before, interrupt_after, checkpoint_during, debug, **kwargs)\u001b[39m\n\u001b[32m   2716\u001b[39m chunks: \u001b[38;5;28mlist\u001b[39m[Union[\u001b[38;5;28mdict\u001b[39m[\u001b[38;5;28mstr\u001b[39m, Any], Any]] = []\n\u001b[32m   2717\u001b[39m interrupts: \u001b[38;5;28mlist\u001b[39m[Interrupt] = []\n\u001b[32m-> \u001b[39m\u001b[32m2719\u001b[39m \u001b[38;5;28;01mfor\u001b[39;00m chunk \u001b[38;5;129;01min\u001b[39;00m \u001b[38;5;28mself\u001b[39m.stream(\n\u001b[32m   2720\u001b[39m     \u001b[38;5;28minput\u001b[39m,\n\u001b[32m   2721\u001b[39m     config,\n\u001b[32m   2722\u001b[39m     stream_mode=stream_mode,\n\u001b[32m   2723\u001b[39m     output_keys=output_keys,\n\u001b[32m   2724\u001b[39m     interrupt_before=interrupt_before,\n\u001b[32m   2725\u001b[39m     interrupt_after=interrupt_after,\n\u001b[32m   2726\u001b[39m     checkpoint_during=checkpoint_during,\n\u001b[32m   2727\u001b[39m     debug=debug,\n\u001b[32m   2728\u001b[39m     **kwargs,\n\u001b[32m   2729\u001b[39m ):\n\u001b[32m   2730\u001b[39m     \u001b[38;5;28;01mif\u001b[39;00m stream_mode == \u001b[33m\"\u001b[39m\u001b[33mvalues\u001b[39m\u001b[33m\"\u001b[39m:\n\u001b[32m   2731\u001b[39m         \u001b[38;5;28;01mif\u001b[39;00m (\n\u001b[32m   2732\u001b[39m             \u001b[38;5;28misinstance\u001b[39m(chunk, \u001b[38;5;28mdict\u001b[39m)\n\u001b[32m   2733\u001b[39m             \u001b[38;5;129;01mand\u001b[39;00m (ints := chunk.get(INTERRUPT)) \u001b[38;5;129;01mis\u001b[39;00m \u001b[38;5;129;01mnot\u001b[39;00m \u001b[38;5;28;01mNone\u001b[39;00m\n\u001b[32m   2734\u001b[39m         ):\n",
      "\u001b[36mFile \u001b[39m\u001b[32mc:\\Users\\Suraj\\anaconda3\\envs\\myenv\\Lib\\site-packages\\langgraph\\pregel\\__init__.py:2436\u001b[39m, in \u001b[36mPregel.stream\u001b[39m\u001b[34m(self, input, config, stream_mode, output_keys, interrupt_before, interrupt_after, checkpoint_during, debug, subgraphs)\u001b[39m\n\u001b[32m   2434\u001b[39m         \u001b[38;5;28;01mfor\u001b[39;00m task \u001b[38;5;129;01min\u001b[39;00m loop.match_cached_writes():\n\u001b[32m   2435\u001b[39m             loop.output_writes(task.id, task.writes, cached=\u001b[38;5;28;01mTrue\u001b[39;00m)\n\u001b[32m-> \u001b[39m\u001b[32m2436\u001b[39m         \u001b[38;5;28;01mfor\u001b[39;00m _ \u001b[38;5;129;01min\u001b[39;00m runner.tick(\n\u001b[32m   2437\u001b[39m             [t \u001b[38;5;28;01mfor\u001b[39;00m t \u001b[38;5;129;01min\u001b[39;00m loop.tasks.values() \u001b[38;5;28;01mif\u001b[39;00m \u001b[38;5;129;01mnot\u001b[39;00m t.writes],\n\u001b[32m   2438\u001b[39m             timeout=\u001b[38;5;28mself\u001b[39m.step_timeout,\n\u001b[32m   2439\u001b[39m             get_waiter=get_waiter,\n\u001b[32m   2440\u001b[39m             schedule_task=loop.accept_push,\n\u001b[32m   2441\u001b[39m         ):\n\u001b[32m   2442\u001b[39m             \u001b[38;5;66;03m# emit output\u001b[39;00m\n\u001b[32m   2443\u001b[39m             \u001b[38;5;28;01myield from\u001b[39;00m output()\n\u001b[32m   2444\u001b[39m \u001b[38;5;66;03m# emit output\u001b[39;00m\n",
      "\u001b[36mFile \u001b[39m\u001b[32mc:\\Users\\Suraj\\anaconda3\\envs\\myenv\\Lib\\site-packages\\langgraph\\pregel\\runner.py:161\u001b[39m, in \u001b[36mPregelRunner.tick\u001b[39m\u001b[34m(self, tasks, reraise, timeout, retry_policy, get_waiter, schedule_task)\u001b[39m\n\u001b[32m    159\u001b[39m t = tasks[\u001b[32m0\u001b[39m]\n\u001b[32m    160\u001b[39m \u001b[38;5;28;01mtry\u001b[39;00m:\n\u001b[32m--> \u001b[39m\u001b[32m161\u001b[39m     run_with_retry(\n\u001b[32m    162\u001b[39m         t,\n\u001b[32m    163\u001b[39m         retry_policy,\n\u001b[32m    164\u001b[39m         configurable={\n\u001b[32m    165\u001b[39m             CONFIG_KEY_CALL: partial(\n\u001b[32m    166\u001b[39m                 _call,\n\u001b[32m    167\u001b[39m                 weakref.ref(t),\n\u001b[32m    168\u001b[39m                 retry=retry_policy,\n\u001b[32m    169\u001b[39m                 futures=weakref.ref(futures),\n\u001b[32m    170\u001b[39m                 schedule_task=schedule_task,\n\u001b[32m    171\u001b[39m                 submit=\u001b[38;5;28mself\u001b[39m.submit,\n\u001b[32m    172\u001b[39m             ),\n\u001b[32m    173\u001b[39m         },\n\u001b[32m    174\u001b[39m     )\n\u001b[32m    175\u001b[39m     \u001b[38;5;28mself\u001b[39m.commit(t, \u001b[38;5;28;01mNone\u001b[39;00m)\n\u001b[32m    176\u001b[39m \u001b[38;5;28;01mexcept\u001b[39;00m \u001b[38;5;167;01mException\u001b[39;00m \u001b[38;5;28;01mas\u001b[39;00m exc:\n",
      "\u001b[36mFile \u001b[39m\u001b[32mc:\\Users\\Suraj\\anaconda3\\envs\\myenv\\Lib\\site-packages\\langgraph\\pregel\\retry.py:40\u001b[39m, in \u001b[36mrun_with_retry\u001b[39m\u001b[34m(task, retry_policy, configurable)\u001b[39m\n\u001b[32m     38\u001b[39m     task.writes.clear()\n\u001b[32m     39\u001b[39m     \u001b[38;5;66;03m# run the task\u001b[39;00m\n\u001b[32m---> \u001b[39m\u001b[32m40\u001b[39m     \u001b[38;5;28;01mreturn\u001b[39;00m task.proc.invoke(task.input, config)\n\u001b[32m     41\u001b[39m \u001b[38;5;28;01mexcept\u001b[39;00m ParentCommand \u001b[38;5;28;01mas\u001b[39;00m exc:\n\u001b[32m     42\u001b[39m     ns: \u001b[38;5;28mstr\u001b[39m = config[CONF][CONFIG_KEY_CHECKPOINT_NS]\n",
      "\u001b[36mFile \u001b[39m\u001b[32mc:\\Users\\Suraj\\anaconda3\\envs\\myenv\\Lib\\site-packages\\langgraph\\utils\\runnable.py:625\u001b[39m, in \u001b[36mRunnableSeq.invoke\u001b[39m\u001b[34m(self, input, config, **kwargs)\u001b[39m\n\u001b[32m    623\u001b[39m                 \u001b[38;5;28minput\u001b[39m = context.run(step.invoke, \u001b[38;5;28minput\u001b[39m, config, **kwargs)\n\u001b[32m    624\u001b[39m         \u001b[38;5;28;01melse\u001b[39;00m:\n\u001b[32m--> \u001b[39m\u001b[32m625\u001b[39m             \u001b[38;5;28minput\u001b[39m = step.invoke(\u001b[38;5;28minput\u001b[39m, config)\n\u001b[32m    626\u001b[39m \u001b[38;5;66;03m# finish the root run\u001b[39;00m\n\u001b[32m    627\u001b[39m \u001b[38;5;28;01mexcept\u001b[39;00m \u001b[38;5;167;01mBaseException\u001b[39;00m \u001b[38;5;28;01mas\u001b[39;00m e:\n",
      "\u001b[36mFile \u001b[39m\u001b[32mc:\\Users\\Suraj\\anaconda3\\envs\\myenv\\Lib\\site-packages\\langgraph\\utils\\runnable.py:377\u001b[39m, in \u001b[36mRunnableCallable.invoke\u001b[39m\u001b[34m(self, input, config, **kwargs)\u001b[39m\n\u001b[32m    375\u001b[39m         run_manager.on_chain_end(ret)\n\u001b[32m    376\u001b[39m \u001b[38;5;28;01melse\u001b[39;00m:\n\u001b[32m--> \u001b[39m\u001b[32m377\u001b[39m     ret = \u001b[38;5;28mself\u001b[39m.func(*args, **kwargs)\n\u001b[32m    378\u001b[39m \u001b[38;5;28;01mif\u001b[39;00m \u001b[38;5;28mself\u001b[39m.recurse \u001b[38;5;129;01mand\u001b[39;00m \u001b[38;5;28misinstance\u001b[39m(ret, Runnable):\n\u001b[32m    379\u001b[39m     \u001b[38;5;28;01mreturn\u001b[39;00m ret.invoke(\u001b[38;5;28minput\u001b[39m, config)\n",
      "\u001b[36mFile \u001b[39m\u001b[32mc:\\Users\\Suraj\\anaconda3\\envs\\myenv\\Lib\\site-packages\\langgraph\\pregel\\write.py:99\u001b[39m, in \u001b[36mChannelWrite._write\u001b[39m\u001b[34m(self, input, config)\u001b[39m\n\u001b[32m     90\u001b[39m \u001b[38;5;28;01mdef\u001b[39;00m\u001b[38;5;250m \u001b[39m\u001b[34m_write\u001b[39m(\u001b[38;5;28mself\u001b[39m, \u001b[38;5;28minput\u001b[39m: Any, config: RunnableConfig) -> \u001b[38;5;28;01mNone\u001b[39;00m:\n\u001b[32m     91\u001b[39m     writes = [\n\u001b[32m     92\u001b[39m         ChannelWriteEntry(write.channel, \u001b[38;5;28minput\u001b[39m, write.skip_none, write.mapper)\n\u001b[32m     93\u001b[39m         \u001b[38;5;28;01mif\u001b[39;00m \u001b[38;5;28misinstance\u001b[39m(write, ChannelWriteEntry) \u001b[38;5;129;01mand\u001b[39;00m write.value \u001b[38;5;129;01mis\u001b[39;00m PASSTHROUGH\n\u001b[32m   (...)\u001b[39m\u001b[32m     97\u001b[39m         \u001b[38;5;28;01mfor\u001b[39;00m write \u001b[38;5;129;01min\u001b[39;00m \u001b[38;5;28mself\u001b[39m.writes\n\u001b[32m     98\u001b[39m     ]\n\u001b[32m---> \u001b[39m\u001b[32m99\u001b[39m     \u001b[38;5;28mself\u001b[39m.do_write(\n\u001b[32m    100\u001b[39m         config,\n\u001b[32m    101\u001b[39m         writes,\n\u001b[32m    102\u001b[39m     )\n\u001b[32m    103\u001b[39m     \u001b[38;5;28;01mreturn\u001b[39;00m \u001b[38;5;28minput\u001b[39m\n",
      "\u001b[36mFile \u001b[39m\u001b[32mc:\\Users\\Suraj\\anaconda3\\envs\\myenv\\Lib\\site-packages\\langgraph\\pregel\\write.py:142\u001b[39m, in \u001b[36mChannelWrite.do_write\u001b[39m\u001b[34m(config, writes, allow_passthrough, require_at_least_one_of)\u001b[39m\n\u001b[32m    139\u001b[39m \u001b[38;5;66;03m# if we want to persist writes found before hitting a ParentCommand\u001b[39;00m\n\u001b[32m    140\u001b[39m \u001b[38;5;66;03m# can move this to a finally block\u001b[39;00m\n\u001b[32m    141\u001b[39m write: TYPE_SEND = config[CONF][CONFIG_KEY_SEND]\n\u001b[32m--> \u001b[39m\u001b[32m142\u001b[39m write(_assemble_writes(writes))\n",
      "\u001b[36mFile \u001b[39m\u001b[32mc:\\Users\\Suraj\\anaconda3\\envs\\myenv\\Lib\\site-packages\\langgraph\\pregel\\write.py:199\u001b[39m, in \u001b[36m_assemble_writes\u001b[39m\u001b[34m(writes)\u001b[39m\n\u001b[32m    197\u001b[39m     tuples.append((TASKS, w))\n\u001b[32m    198\u001b[39m \u001b[38;5;28;01melif\u001b[39;00m \u001b[38;5;28misinstance\u001b[39m(w, ChannelWriteTupleEntry):\n\u001b[32m--> \u001b[39m\u001b[32m199\u001b[39m     \u001b[38;5;28;01mif\u001b[39;00m ww := w.mapper(w.value):\n\u001b[32m    200\u001b[39m         tuples.extend(ww)\n\u001b[32m    201\u001b[39m \u001b[38;5;28;01melif\u001b[39;00m \u001b[38;5;28misinstance\u001b[39m(w, ChannelWriteEntry):\n",
      "\u001b[36mFile \u001b[39m\u001b[32mc:\\Users\\Suraj\\anaconda3\\envs\\myenv\\Lib\\site-packages\\langgraph\\graph\\state.py:770\u001b[39m, in \u001b[36mCompiledStateGraph.attach_node.<locals>._get_updates\u001b[39m\u001b[34m(input)\u001b[39m\n\u001b[32m    765\u001b[39m \u001b[38;5;28;01melse\u001b[39;00m:\n\u001b[32m    766\u001b[39m     msg = create_error_message(\n\u001b[32m    767\u001b[39m         message=\u001b[33mf\u001b[39m\u001b[33m\"\u001b[39m\u001b[33mExpected dict, got \u001b[39m\u001b[38;5;132;01m{\u001b[39;00m\u001b[38;5;28minput\u001b[39m\u001b[38;5;132;01m}\u001b[39;00m\u001b[33m\"\u001b[39m,\n\u001b[32m    768\u001b[39m         error_code=ErrorCode.INVALID_GRAPH_NODE_RETURN_VALUE,\n\u001b[32m    769\u001b[39m     )\n\u001b[32m--> \u001b[39m\u001b[32m770\u001b[39m     \u001b[38;5;28;01mraise\u001b[39;00m InvalidUpdateError(msg)\n",
      "\u001b[31mInvalidUpdateError\u001b[39m: Expected dict, got Output\nFor troubleshooting, visit: https://python.langchain.com/docs/troubleshooting/errors/INVALID_GRAPH_NODE_RETURN_VALUE",
      "During task with name 'router' and id 'cb2be38d-77f4-a0ca-c453-f579aba823ae'"
     ]
    }
   ],
   "source": [
    "#graph.invoke({\"question\": \"AAPL\"})  # For finance\n",
    "# print(\"Invoking graph with 'What is the tallest building?'...\")\n",
    "result_web = graph.invoke({\"question\": \"What is capital of India?\"})\n",
    "# print(f\"Web Search Result: {result_web}\")  # For web search"
   ]
  }
 ],
 "metadata": {
  "kernelspec": {
   "display_name": "myenv",
   "language": "python",
   "name": "python3"
  },
  "language_info": {
   "codemirror_mode": {
    "name": "ipython",
    "version": 3
   },
   "file_extension": ".py",
   "mimetype": "text/x-python",
   "name": "python",
   "nbconvert_exporter": "python",
   "pygments_lexer": "ipython3",
   "version": "3.11.11"
  }
 },
 "nbformat": 4,
 "nbformat_minor": 5
}
